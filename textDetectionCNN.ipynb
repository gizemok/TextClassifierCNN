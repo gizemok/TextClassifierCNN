{
  "nbformat": 4,
  "nbformat_minor": 0,
  "metadata": {
    "colab": {
      "name": "textDetectionCNN.ipynb",
      "provenance": [],
      "collapsed_sections": [],
      "mount_file_id": "1tFjkGEeMW_YYSqGym1XVfrNMzzgIY2pz",
      "authorship_tag": "ABX9TyP1r5ORjnEeRDZPnDmAXD2q",
      "include_colab_link": true
    },
    "kernelspec": {
      "name": "python3",
      "display_name": "Python 3"
    },
    "language_info": {
      "name": "python"
    }
  },
  "cells": [
    {
      "cell_type": "markdown",
      "metadata": {
        "id": "view-in-github",
        "colab_type": "text"
      },
      "source": [
        "<a href=\"https://colab.research.google.com/github/gizemok/TextClassifierCNN/blob/master/textDetectionCNN.ipynb\" target=\"_parent\"><img src=\"https://colab.research.google.com/assets/colab-badge.svg\" alt=\"Open In Colab\"/></a>"
      ]
    },
    {
      "cell_type": "code",
      "source": [
        "! git clone https://github.com/gizemok/TextClassifierCNN.git"
      ],
      "metadata": {
        "colab": {
          "base_uri": "https://localhost:8080/"
        },
        "id": "njEb7G2omljQ",
        "outputId": "4eb78b29-17f8-40a2-aad0-61783d003de0"
      },
      "execution_count": 137,
      "outputs": [
        {
          "output_type": "stream",
          "name": "stdout",
          "text": [
            "Cloning into 'TextClassifierCNN'...\n",
            "remote: Enumerating objects: 3, done.\u001b[K\n",
            "remote: Counting objects:  33% (1/3)\u001b[K\rremote: Counting objects:  66% (2/3)\u001b[K\rremote: Counting objects: 100% (3/3)\u001b[K\rremote: Counting objects: 100% (3/3), done.\u001b[K\n",
            "remote: Total 3 (delta 0), reused 0 (delta 0), pack-reused 0\u001b[K\n",
            "Unpacking objects:  33% (1/3)   \rUnpacking objects:  66% (2/3)   \rUnpacking objects: 100% (3/3)   \rUnpacking objects: 100% (3/3), done.\n"
          ]
        }
      ]
    },
    {
      "cell_type": "code",
      "source": [
        "from google.colab import drive\n",
        " \n",
        "drive.mount('/content/gdrive')"
      ],
      "metadata": {
        "id": "AgV6NuMSnpNk"
      },
      "execution_count": 139,
      "outputs": []
    },
    {
      "cell_type": "code",
      "execution_count": 140,
      "metadata": {
        "colab": {
          "base_uri": "https://localhost:8080/"
        },
        "id": "ICafJfEoNKjS",
        "outputId": "bfd1b7c7-ecf8-4cb3-a90d-4bb5c15b364a"
      },
      "outputs": [
        {
          "output_type": "stream",
          "name": "stdout",
          "text": [
            "['8', '2', '6', '.ipynb_checkpoints', '9', '1', '4', '0', '7', '5', '3']\n",
            "11\n"
          ]
        }
      ],
      "source": [
        "import numpy as np\n",
        "import cv2\n",
        "import os\n",
        "\n",
        "######################\n",
        "path = 'myData'\n",
        "\n",
        "######################\n",
        "\n",
        "myList=os.listdir(path)\n",
        "print(myList)\n",
        "print(len(myList))"
      ]
    },
    {
      "cell_type": "code",
      "source": [
        "root_dir = 'myData'\n",
        "i=0\n",
        "liste=[]\n",
        "for (root, dirs, files) in os.walk(root_dir):\n",
        "    for d in dirs:\n",
        "        if not d.startswith('.'):\n",
        "            dir_path = os.path.join(d)\n",
        "            liste.append(dir_path)"
      ],
      "metadata": {
        "id": "YCJEmQkBN3XD"
      },
      "execution_count": 141,
      "outputs": []
    },
    {
      "cell_type": "code",
      "source": [
        "print(\"Total No of Classes Detected\",len(liste))"
      ],
      "metadata": {
        "colab": {
          "base_uri": "https://localhost:8080/"
        },
        "id": "3WGstWtQPNkS",
        "outputId": "77f0105d-3786-473c-c84c-8c9dc5c828cb"
      },
      "execution_count": 142,
      "outputs": [
        {
          "output_type": "stream",
          "name": "stdout",
          "text": [
            "Total No of Classes Detected 10\n"
          ]
        }
      ]
    },
    {
      "cell_type": "code",
      "source": [
        "print(liste)"
      ],
      "metadata": {
        "colab": {
          "base_uri": "https://localhost:8080/"
        },
        "id": "sMH4k8gAPQ6B",
        "outputId": "0077ca2f-9e25-42e1-aa9a-02dbe82cc442"
      },
      "execution_count": 143,
      "outputs": [
        {
          "output_type": "stream",
          "name": "stdout",
          "text": [
            "['8', '2', '6', '9', '1', '4', '0', '7', '5', '3']\n"
          ]
        }
      ]
    },
    {
      "cell_type": "code",
      "source": [
        "noOfClasses=len(liste)"
      ],
      "metadata": {
        "id": "E0lWK_52P1wf"
      },
      "execution_count": 144,
      "outputs": []
    },
    {
      "cell_type": "code",
      "source": [
        "#we need to image lists and class number\n",
        "print(\"Importing Classes\")\n",
        "images=[]\n",
        "classNo = []\n",
        "for x in range(0, noOfClasses):\n",
        "  myPicList = os.listdir(path+ \"/\"+str(x))\n",
        "  for y in myPicList:\n",
        "    curImg = cv2.imread(path+\"/\"+str(x)+\"/\"+y)\n",
        "    #resize our image\n",
        "    curImg = cv2.resize(curImg, (32,32))\n",
        "    #store images\n",
        "    images.append(curImg)\n",
        "    classNo.append(x)\n",
        "  print(x,end=\" \") #folder\n",
        "print(\" \")"
      ],
      "metadata": {
        "id": "YSnecAwMc4wM",
        "colab": {
          "base_uri": "https://localhost:8080/"
        },
        "outputId": "9228c30b-74ef-4313-cb79-b7f360375d66"
      },
      "execution_count": 145,
      "outputs": [
        {
          "output_type": "stream",
          "name": "stdout",
          "text": [
            "Importing Classes\n",
            "0 1 2 3 4 5 6 7 8 9  \n"
          ]
        }
      ]
    },
    {
      "cell_type": "code",
      "source": [
        "print(len(classNo))"
      ],
      "metadata": {
        "colab": {
          "base_uri": "https://localhost:8080/"
        },
        "id": "OY20Xnst9fbe",
        "outputId": "96f92776-554a-4150-805e-01494d2faa35"
      },
      "execution_count": 146,
      "outputs": [
        {
          "output_type": "stream",
          "name": "stdout",
          "text": [
            "100\n"
          ]
        }
      ]
    },
    {
      "cell_type": "code",
      "source": [
        "images = np.array(images)\n",
        "classNo = np.array(classNo)\n",
        "\n",
        "print(images.shape)\n",
        "print(classNo.shape)"
      ],
      "metadata": {
        "colab": {
          "base_uri": "https://localhost:8080/"
        },
        "id": "zAFDCRfI9rRH",
        "outputId": "ed97663b-1d3b-49f8-f860-7bfe0feb92d9"
      },
      "execution_count": 148,
      "outputs": [
        {
          "output_type": "stream",
          "name": "stdout",
          "text": [
            "(100, 32, 32, 3)\n",
            "(100,)\n"
          ]
        }
      ]
    },
    {
      "cell_type": "code",
      "source": [
        "from sklearn.model_selection import train_test_split\n",
        "test_Ratio=0.2\n",
        "val_Ratio=0.2\n",
        "##splitting data\n",
        "X_train, X_test, y_train, y_test=train_test_split(images, classNo,test_size=test_Ratio)\n",
        "X_train, X_validation, y_train, y_validation =train_test_split(X_train, y_train,test_size=val_Ratio)\n",
        "print(X_train.shape)\n",
        "print(X_test.shape)\n",
        "print(X_validation.shape)"
      ],
      "metadata": {
        "colab": {
          "base_uri": "https://localhost:8080/"
        },
        "id": "i2-4ZlMd_G4o",
        "outputId": "f1c5900d-2d8f-4aa9-be9d-d957e752596f"
      },
      "execution_count": 149,
      "outputs": [
        {
          "output_type": "stream",
          "name": "stdout",
          "text": [
            "(64, 32, 32, 3)\n",
            "(20, 32, 32, 3)\n",
            "(16, 32, 32, 3)\n"
          ]
        }
      ]
    },
    {
      "cell_type": "code",
      "source": [
        "print(len(np.where(y_train==0)[0])) #8 tane görsel trainde id 0 "
      ],
      "metadata": {
        "colab": {
          "base_uri": "https://localhost:8080/"
        },
        "id": "4SPBcQtRBjk8",
        "outputId": "a2ef11c9-c058-43a1-8f9d-c581814ec0a0"
      },
      "execution_count": 150,
      "outputs": [
        {
          "output_type": "stream",
          "name": "stdout",
          "text": [
            "7\n"
          ]
        }
      ]
    },
    {
      "cell_type": "code",
      "source": [
        "numOfSamples=[]\n",
        "for x in range(0,noOfClasses):\n",
        "  #print(len(np.where(y_train==x)[0]))\n",
        "  numOfSamples.append(len(np.where(y_train==x)[0]))\n",
        "\n",
        "print(numOfSamples)"
      ],
      "metadata": {
        "colab": {
          "base_uri": "https://localhost:8080/"
        },
        "id": "E9N3oFzDCGkY",
        "outputId": "3808f5de-3a65-4629-c94f-089eb002bee9"
      },
      "execution_count": 151,
      "outputs": [
        {
          "output_type": "stream",
          "name": "stdout",
          "text": [
            "[7, 9, 4, 8, 4, 8, 6, 6, 5, 7]\n"
          ]
        }
      ]
    },
    {
      "cell_type": "code",
      "source": [
        "import matplotlib.pyplot as plt\n",
        "\n",
        "plt.figure(figsize=(10,5))\n",
        "plt.bar(range(0,noOfClasses),numOfSamples)\n",
        "plt.title(\"No of Images each Class\")\n",
        "plt.xlabel(\"Class ID\")\n",
        "plt.ylabel(\"Number of Images\")\n",
        "plt.show()"
      ],
      "metadata": {
        "colab": {
          "base_uri": "https://localhost:8080/",
          "height": 350
        },
        "id": "Ev0VqLgkDdIt",
        "outputId": "3724e051-f6d3-4f1c-fb62-41b2901193c6"
      },
      "execution_count": 152,
      "outputs": [
        {
          "output_type": "display_data",
          "data": {
            "text/plain": [
              "<Figure size 720x360 with 1 Axes>"
            ],
            "image/png": "[encoded data removed]"
          },
          "metadata": {
            "needs_background": "light"
          }
        }
      ]
    },
    {
      "cell_type": "code",
      "source": [
        "def preProcessing(img):\n",
        "  img = cv2.cvtColor(img, cv2.COLOR_BGR2GRAY)\n",
        "  #img = cv2.equalizeHist(img)\n",
        "  #img = img/255\n",
        "  return img\n"
      ],
      "metadata": {
        "id": "-y3cDXMYEYxz"
      },
      "execution_count": 153,
      "outputs": []
    },
    {
      "cell_type": "code",
      "source": [
        "from google.colab.patches import cv2_imshow\n",
        "\n",
        "img=preProcessing(X_train[30]) #adam 30 koydu\n",
        "img = cv2.resize(img,(300,300))\n",
        "cv2_imshow(img)\n",
        "cv2.waitKey(0)"
      ],
      "metadata": {
        "colab": {
          "base_uri": "https://localhost:8080/",
          "height": 334
        },
        "id": "t2LzqsZxGEwY",
        "outputId": "a7225534-083e-4c2a-a15c-8f6092ff9614"
      },
      "execution_count": 154,
      "outputs": [
        {
          "output_type": "display_data",
          "data": {
            "text/plain": [
              "<PIL.Image.Image image mode=L size=300x300 at 0x7F827B69A190>"
            ],
            "image/png": "[encoded data removed]"
          },
          "metadata": {}
        },
        {
          "output_type": "execute_result",
          "data": {
            "text/plain": [
              "-1"
            ]
          },
          "metadata": {},
          "execution_count": 154
        }
      ]
    },
    {
      "cell_type": "code",
      "source": [
        "X_train = np.array(list(map(preProcessing,X_train)))\n",
        "\n",
        "img=X_train[30] #adam 30 koydu\n",
        "img = cv2.resize(img,(300,300))\n",
        "cv2_imshow(img)\n",
        "cv2.waitKey(0)"
      ],
      "metadata": {
        "colab": {
          "base_uri": "https://localhost:8080/",
          "height": 334
        },
        "id": "AmoEok1SGpha",
        "outputId": "c8cc50ae-3988-46b2-8445-7a68083d9a43"
      },
      "execution_count": 155,
      "outputs": [
        {
          "output_type": "display_data",
          "data": {
            "text/plain": [
              "<PIL.Image.Image image mode=L size=300x300 at 0x7F827B69A3D0>"
            ],
            "image/png": "[encoded data removed]"
          },
          "metadata": {}
        },
        {
          "output_type": "execute_result",
          "data": {
            "text/plain": [
              "-1"
            ]
          },
          "metadata": {},
          "execution_count": 155
        }
      ]
    },
    {
      "cell_type": "code",
      "source": [
        "print(X_train[30].shape)"
      ],
      "metadata": {
        "colab": {
          "base_uri": "https://localhost:8080/"
        },
        "id": "A864l5ISIuCY",
        "outputId": "d90b5bd5-2f13-47fa-ec85-d152a2853c0f"
      },
      "execution_count": 156,
      "outputs": [
        {
          "output_type": "stream",
          "name": "stdout",
          "text": [
            "(32, 32)\n"
          ]
        }
      ]
    },
    {
      "cell_type": "code",
      "source": [
        "X_test = np.array(list(map(preProcessing,X_test)))\n",
        "X_validation = np.array(list(map(preProcessing,X_validation)))\n",
        "#before reshape\n",
        "print(X_train.shape)\n",
        "#creating depth\n",
        "X_train = X_train.reshape(X_train.shape[0],X_train.shape[1],X_train.shape[2],1)\n",
        "X_test = X_test.reshape(X_test.shape[0],X_test.shape[1],X_test.shape[2],1)\n",
        "X_validation = X_validation.reshape(X_validation.shape[0],X_validation.shape[1],X_validation.shape[2],1)\n",
        "#after reshape\n",
        "print(X_train.shape)"
      ],
      "metadata": {
        "colab": {
          "base_uri": "https://localhost:8080/"
        },
        "id": "XrbM3x6nIxz2",
        "outputId": "1baa85aa-505e-4f61-8d2d-a7d856b77713"
      },
      "execution_count": 157,
      "outputs": [
        {
          "output_type": "stream",
          "name": "stdout",
          "text": [
            "(64, 32, 32)\n",
            "(64, 32, 32, 1)\n"
          ]
        }
      ]
    },
    {
      "cell_type": "code",
      "source": [
        "#data augmentation\n",
        "from keras.preprocessing.image import ImageDataGenerator\n",
        "from keras.utils.np_utils import to_categorical\n",
        "from typing import Sequence"
      ],
      "metadata": {
        "id": "epUL2eBHLTZR"
      },
      "execution_count": 158,
      "outputs": []
    },
    {
      "cell_type": "code",
      "source": [
        "from keras.models import Sequential\n",
        "from keras.layers import Dense, Dropout, Activation, MaxPooling2D, Conv2D, Flatten\n",
        "from tensorflow.keras.optimizers import Adam \n",
        "#from keras.optimizers import Adam\n",
        "\n",
        "imageDimensions=(32,32,3)\n",
        "\n",
        "dataGen= ImageDataGenerator(width_shift_range=0.1,\n",
        "                            height_shift_range=0.1,\n",
        "                            zoom_range=0.2,\n",
        "                            shear_range=0.1,\n",
        "                            rotation_range=10)\n",
        "\n",
        "dataGen.fit(X_train)\n",
        "\n",
        "#one hot encoding for nn\n",
        "y_train= to_categorical(y_train,noOfClasses)\n",
        "y_test= to_categorical(y_test,noOfClasses)\n",
        "y_validation= to_categorical(y_validation,noOfClasses)\n",
        "\n",
        "def myModel():\n",
        "  noOfFilters= 60\n",
        "  sizeOfFilter1=(5,5)\n",
        "  sizeOfFilter2= (3,3)\n",
        "  sizeOfPool= (2,2)\n",
        "  noOfNode=500\n",
        "\n",
        "  model = Sequential()\n",
        "  model.add((Conv2D(noOfFilters,sizeOfFilter1,input_shape=(imageDimensions[0],\n",
        "                                                           imageDimensions[1],\n",
        "                                                           1), activation= 'relu'\n",
        "                                                                )))\n",
        "  model.add((Conv2D(noOfFilters,sizeOfFilter1, activation= 'relu')))\n",
        "\n",
        "  model.add(MaxPooling2D(pool_size=sizeOfPool))\n",
        "  model.add((Conv2D(noOfFilters//2,sizeOfFilter2, activation= 'relu')))\n",
        "  model.add((Conv2D(noOfFilters//2,sizeOfFilter2, activation= 'relu')))\n",
        "  model.add(MaxPooling2D(pool_size=sizeOfPool))\n",
        "  model.add(Dropout(0.5))\n",
        "\n",
        "  model.add(Flatten())\n",
        "  model.add(Dense(noOfNode, activation='relu'))\n",
        "  model.add(Dropout(0.5))\n",
        "  model.add(Dense(noOfClasses, activation='softmax'))\n",
        "\n",
        "  \"\"\"\n",
        "  model.compile(optimizer='adam',\n",
        "              loss='categorical_crossentropy', # Loss\n",
        "              metrics=['accuracy'])\n",
        "  \"\"\"\n",
        "  \n",
        "  model.compile(Adam(learning_rate=0.001),loss='categorical_crossentropy',\n",
        "                metrics=['accuracy'])\n",
        "  \n",
        "\n",
        "\n",
        "  \n",
        "  return model\n",
        "\n",
        "model=myModel()\n",
        "model.summary()\n",
        "\n"
      ],
      "metadata": {
        "colab": {
          "base_uri": "https://localhost:8080/"
        },
        "id": "lLF8S6TjL38l",
        "outputId": "3a82e5d6-38cd-48af-b06e-c46e4887f713"
      },
      "execution_count": 159,
      "outputs": [
        {
          "output_type": "stream",
          "name": "stdout",
          "text": [
            "Model: \"sequential_8\"\n",
            "_________________________________________________________________\n",
            " Layer (type)                Output Shape              Param #   \n",
            "=================================================================\n",
            " conv2d_32 (Conv2D)          (None, 28, 28, 60)        1560      \n",
            "                                                                 \n",
            " conv2d_33 (Conv2D)          (None, 24, 24, 60)        90060     \n",
            "                                                                 \n",
            " max_pooling2d_16 (MaxPoolin  (None, 12, 12, 60)       0         \n",
            " g2D)                                                            \n",
            "                                                                 \n",
            " conv2d_34 (Conv2D)          (None, 10, 10, 30)        16230     \n",
            "                                                                 \n",
            " conv2d_35 (Conv2D)          (None, 8, 8, 30)          8130      \n",
            "                                                                 \n",
            " max_pooling2d_17 (MaxPoolin  (None, 4, 4, 30)         0         \n",
            " g2D)                                                            \n",
            "                                                                 \n",
            " dropout_16 (Dropout)        (None, 4, 4, 30)          0         \n",
            "                                                                 \n",
            " flatten_8 (Flatten)         (None, 480)               0         \n",
            "                                                                 \n",
            " dense_16 (Dense)            (None, 500)               240500    \n",
            "                                                                 \n",
            " dropout_17 (Dropout)        (None, 500)               0         \n",
            "                                                                 \n",
            " dense_17 (Dense)            (None, 10)                5010      \n",
            "                                                                 \n",
            "=================================================================\n",
            "Total params: 361,490\n",
            "Trainable params: 361,490\n",
            "Non-trainable params: 0\n",
            "_________________________________________________________________\n"
          ]
        }
      ]
    },
    {
      "cell_type": "code",
      "source": [
        "from sklearn.utils import shuffle\n",
        "\n",
        "batchSizeVal= 2 #50\n",
        "epochsVal=5 #10\n",
        "stepsPerEpochVal= 10 #2000\n",
        "\n",
        "history = model.fit_generator(dataGen.flow(X_train, y_train,\n",
        "                                 batch_size=batchSizeVal),\n",
        "                                 steps_per_epoch=stepsPerEpochVal,\n",
        "                                 epochs=epochsVal,\n",
        "                                 validation_data=(X_validation, y_validation),\n",
        "                                 shuffle=1\n",
        "                                 )"
      ],
      "metadata": {
        "colab": {
          "base_uri": "https://localhost:8080/"
        },
        "id": "Yg4yxka8WKcS",
        "outputId": "536bf6d1-3ee0-40e3-9c13-8580bc7b73f2"
      },
      "execution_count": 160,
      "outputs": [
        {
          "output_type": "stream",
          "name": "stdout",
          "text": [
            "Epoch 1/5\n"
          ]
        },
        {
          "output_type": "stream",
          "name": "stderr",
          "text": [
            "/usr/local/lib/python3.7/dist-packages/ipykernel_launcher.py:12: UserWarning: `Model.fit_generator` is deprecated and will be removed in a future version. Please use `Model.fit`, which supports generators.\n",
            "  if sys.path[0] == '':\n"
          ]
        },
        {
          "output_type": "stream",
          "name": "stdout",
          "text": [
            "10/10 [==============================] - 1s 55ms/step - loss: 19.0503 - accuracy: 0.1000 - val_loss: 4.9002 - val_accuracy: 0.0625\n",
            "Epoch 2/5\n",
            "10/10 [==============================] - 0s 33ms/step - loss: 3.7219 - accuracy: 0.1000 - val_loss: 2.9522 - val_accuracy: 0.1250\n",
            "Epoch 3/5\n",
            "10/10 [==============================] - 0s 34ms/step - loss: 2.4153 - accuracy: 0.3000 - val_loss: 2.3338 - val_accuracy: 0.0625\n",
            "Epoch 4/5\n",
            "10/10 [==============================] - 0s 33ms/step - loss: 2.3821 - accuracy: 0.0500 - val_loss: 2.2980 - val_accuracy: 0.0625\n",
            "Epoch 5/5\n",
            "10/10 [==============================] - 0s 33ms/step - loss: 2.2846 - accuracy: 0.1000 - val_loss: 2.2977 - val_accuracy: 0.0625\n"
          ]
        }
      ]
    },
    {
      "cell_type": "code",
      "source": [
        "plt.figure(1)\n",
        "plt.plot(history.history['loss'])\n",
        "plt.plot(history.history['val_loss'])\n",
        "plt.legend(['training','validation'])\n",
        "plt.title('Loss')\n",
        "plt.xlabel('epoch')\n",
        "\n",
        "plt.figure(2)\n",
        "plt.plot(history.history['accuracy'])\n",
        "plt.plot(history.history['val_accuracy'])\n",
        "plt.legend(['training','validation'])\n",
        "plt.title('Accuracy')\n",
        "plt.xlabel('epoch')\n",
        "plt.show()\n",
        "\n",
        "score= model.evaluate(X_test, y_test, verbose=0)\n",
        "print('Test Score = ', score[0])\n",
        "print('Test Accuracy = ',score[1])\n",
        "\n",
        "\n",
        "## model saving\n",
        "import pickle\n",
        "\n",
        "pickle_out= open(\"model_trained.p\", \"wb\")\n",
        "pickle.dump(model, pickle_out)\n",
        "pickle_out.close()"
      ],
      "metadata": {
        "colab": {
          "base_uri": "https://localhost:8080/",
          "height": 625
        },
        "id": "QIMnnZ6-h39a",
        "outputId": "3c191352-fefe-4e0f-c6f9-5c05c09d9ea5"
      },
      "execution_count": 161,
      "outputs": [
        {
          "output_type": "display_data",
          "data": {
            "text/plain": [
              "<Figure size 432x288 with 1 Axes>"
            ],
            "image/png": "[encoded data removed]"
          },
          "metadata": {
            "needs_background": "light"
          }
        },
        {
          "output_type": "display_data",
          "data": {
            "text/plain": [
              "<Figure size 432x288 with 1 Axes>"
            ],
            "image/png": "[encoded data removed]"
          },
          "metadata": {
            "needs_background": "light"
          }
        },
        {
          "output_type": "stream",
          "name": "stdout",
          "text": [
            "Test Score =  2.299614667892456\n",
            "Test Accuracy =  0.05000000074505806\n",
            "INFO:tensorflow:Assets written to: ram://a1f2d2c3-fda2-40c0-9adc-36ec9a1a5cc3/assets\n"
          ]
        }
      ]
    }
  ]
}